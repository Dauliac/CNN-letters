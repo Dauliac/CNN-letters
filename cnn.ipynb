{
 "cells": [
  {
   "cell_type": "markdown",
   "metadata": {},
   "source": [
    "# CNN des chiffres et des lettres\n",
    "\n",
    "Satger Aurélien et Dauliac Julien"
   ]
  },
  {
   "cell_type": "markdown",
   "metadata": {},
   "source": [
    "Mode dev:"
   ]
  },
  {
   "cell_type": "code",
   "execution_count": null,
   "metadata": {},
   "outputs": [
    {
     "name": "stdout",
     "output_type": "stream",
     "text": [
      "The autoreload extension is already loaded. To reload it, use:\n",
      "  %reload_ext autoreload\n"
     ]
    }
   ],
   "source": [
    "%load_ext autoreload\n",
    "%autoreload 2"
   ]
  },
  {
   "cell_type": "markdown",
   "metadata": {
    "tags": []
   },
   "source": [
    "## Import librairies 📚"
   ]
  },
  {
   "cell_type": "code",
   "execution_count": null,
   "metadata": {},
   "outputs": [],
   "source": [
    "import pandas as pd\n",
    "import matplotlib.pyplot as plt\n",
    "import numpy as np\n",
    "import keras"
   ]
  },
  {
   "cell_type": "code",
   "execution_count": null,
   "metadata": {},
   "outputs": [],
   "source": [
    "import datetime\n",
    "\n",
    "cache_dir = \".cache\" \n",
    "\n",
    "def get_directory(name, cache_dir=cache_dir):\n",
    "    return f\"{cache_dir}/{name}\"\n",
    "\n",
    "def get_asset_directory(name):\n",
    "    return f\"assets/{name}\"\n",
    "\n",
    "def get_log_directory(name, cache_dir=cache_dir):\n",
    "    directory_name = get_directory(name)\n",
    "    log_dir = f\"{directory_name}/log\"\n",
    "    return log_dir\n",
    "\n",
    "def get_fit_directory(name, cache_dir=cache_dir):\n",
    "    directory_name = get_directory(name)\n",
    "    log_dir = f\"{directory_name}/fit\"\n",
    "    return log_dir\n",
    "\n",
    "def get_project_name(section_label):\n",
    "    return f\"CNN-{section_label}\""
   ]
  },
  {
   "cell_type": "code",
   "execution_count": null,
   "metadata": {},
   "outputs": [
    {
     "name": "stdout",
     "output_type": "stream",
     "text": [
      "['a', 'b', 'c', 'd', 'e', 'f', 'g', 'h', 'i', 'j', 'k', 'l', 'm', 'n', 'o', 'p', 'q', 'r', 's', 't', 'u', 'v', 'w', 'x', 'y', 'z']\n"
     ]
    }
   ],
   "source": [
    "import string\n",
    "alphabet = list(string.ascii_lowercase)\n",
    "print(alphabet)"
   ]
  },
  {
   "cell_type": "markdown",
   "metadata": {
    "tags": []
   },
   "source": [
    "## Chargement des données 💾"
   ]
  },
  {
   "cell_type": "code",
   "execution_count": null,
   "metadata": {},
   "outputs": [
    {
     "name": "stdout",
     "output_type": "stream",
     "text": [
      "CPU times: user 4.19 s, sys: 1.67 s, total: 5.86 s\n",
      "Wall time: 2min 3s\n"
     ]
    }
   ],
   "source": [
    "%%time\n",
    "letters_train = pd.read_csv(\n",
    "    'https://www.labri.fr/perso/zemmari/datasets/emnist/emnist-letters-train.csv',\n",
    "    header=None\n",
    ")\n",
    "\n",
    "letters_test = pd.read_csv(\n",
    "    'https://www.labri.fr/perso/zemmari/datasets/emnist/emnist-letters-test.csv',\n",
    "    header=None\n",
    ")"
   ]
  },
  {
   "cell_type": "code",
   "execution_count": null,
   "metadata": {},
   "outputs": [
    {
     "data": {
      "text/html": [
       "<div>\n",
       "<style scoped>\n",
       "    .dataframe tbody tr th:only-of-type {\n",
       "        vertical-align: middle;\n",
       "    }\n",
       "\n",
       "    .dataframe tbody tr th {\n",
       "        vertical-align: top;\n",
       "    }\n",
       "\n",
       "    .dataframe thead th {\n",
       "        text-align: right;\n",
       "    }\n",
       "</style>\n",
       "<table border=\"1\" class=\"dataframe\">\n",
       "  <thead>\n",
       "    <tr style=\"text-align: right;\">\n",
       "      <th></th>\n",
       "      <th>0</th>\n",
       "      <th>1</th>\n",
       "      <th>2</th>\n",
       "      <th>3</th>\n",
       "      <th>4</th>\n",
       "      <th>5</th>\n",
       "      <th>6</th>\n",
       "      <th>7</th>\n",
       "      <th>8</th>\n",
       "      <th>9</th>\n",
       "      <th>...</th>\n",
       "      <th>775</th>\n",
       "      <th>776</th>\n",
       "      <th>777</th>\n",
       "      <th>778</th>\n",
       "      <th>779</th>\n",
       "      <th>780</th>\n",
       "      <th>781</th>\n",
       "      <th>782</th>\n",
       "      <th>783</th>\n",
       "      <th>784</th>\n",
       "    </tr>\n",
       "  </thead>\n",
       "  <tbody>\n",
       "    <tr>\n",
       "      <th>0</th>\n",
       "      <td>23</td>\n",
       "      <td>0</td>\n",
       "      <td>0</td>\n",
       "      <td>0</td>\n",
       "      <td>0</td>\n",
       "      <td>0</td>\n",
       "      <td>0</td>\n",
       "      <td>0</td>\n",
       "      <td>0</td>\n",
       "      <td>0</td>\n",
       "      <td>...</td>\n",
       "      <td>0</td>\n",
       "      <td>0</td>\n",
       "      <td>0</td>\n",
       "      <td>0</td>\n",
       "      <td>0</td>\n",
       "      <td>0</td>\n",
       "      <td>0</td>\n",
       "      <td>0</td>\n",
       "      <td>0</td>\n",
       "      <td>0</td>\n",
       "    </tr>\n",
       "    <tr>\n",
       "      <th>1</th>\n",
       "      <td>7</td>\n",
       "      <td>0</td>\n",
       "      <td>0</td>\n",
       "      <td>0</td>\n",
       "      <td>0</td>\n",
       "      <td>0</td>\n",
       "      <td>0</td>\n",
       "      <td>0</td>\n",
       "      <td>0</td>\n",
       "      <td>0</td>\n",
       "      <td>...</td>\n",
       "      <td>0</td>\n",
       "      <td>0</td>\n",
       "      <td>0</td>\n",
       "      <td>0</td>\n",
       "      <td>0</td>\n",
       "      <td>0</td>\n",
       "      <td>0</td>\n",
       "      <td>0</td>\n",
       "      <td>0</td>\n",
       "      <td>0</td>\n",
       "    </tr>\n",
       "    <tr>\n",
       "      <th>2</th>\n",
       "      <td>16</td>\n",
       "      <td>0</td>\n",
       "      <td>0</td>\n",
       "      <td>0</td>\n",
       "      <td>0</td>\n",
       "      <td>0</td>\n",
       "      <td>0</td>\n",
       "      <td>0</td>\n",
       "      <td>0</td>\n",
       "      <td>0</td>\n",
       "      <td>...</td>\n",
       "      <td>0</td>\n",
       "      <td>0</td>\n",
       "      <td>0</td>\n",
       "      <td>0</td>\n",
       "      <td>0</td>\n",
       "      <td>0</td>\n",
       "      <td>0</td>\n",
       "      <td>0</td>\n",
       "      <td>0</td>\n",
       "      <td>0</td>\n",
       "    </tr>\n",
       "    <tr>\n",
       "      <th>3</th>\n",
       "      <td>15</td>\n",
       "      <td>0</td>\n",
       "      <td>0</td>\n",
       "      <td>0</td>\n",
       "      <td>0</td>\n",
       "      <td>0</td>\n",
       "      <td>0</td>\n",
       "      <td>0</td>\n",
       "      <td>0</td>\n",
       "      <td>0</td>\n",
       "      <td>...</td>\n",
       "      <td>0</td>\n",
       "      <td>0</td>\n",
       "      <td>0</td>\n",
       "      <td>0</td>\n",
       "      <td>0</td>\n",
       "      <td>0</td>\n",
       "      <td>0</td>\n",
       "      <td>0</td>\n",
       "      <td>0</td>\n",
       "      <td>0</td>\n",
       "    </tr>\n",
       "    <tr>\n",
       "      <th>4</th>\n",
       "      <td>23</td>\n",
       "      <td>0</td>\n",
       "      <td>0</td>\n",
       "      <td>0</td>\n",
       "      <td>0</td>\n",
       "      <td>0</td>\n",
       "      <td>0</td>\n",
       "      <td>0</td>\n",
       "      <td>0</td>\n",
       "      <td>0</td>\n",
       "      <td>...</td>\n",
       "      <td>0</td>\n",
       "      <td>0</td>\n",
       "      <td>0</td>\n",
       "      <td>0</td>\n",
       "      <td>0</td>\n",
       "      <td>0</td>\n",
       "      <td>0</td>\n",
       "      <td>0</td>\n",
       "      <td>0</td>\n",
       "      <td>0</td>\n",
       "    </tr>\n",
       "  </tbody>\n",
       "</table>\n",
       "<p>5 rows × 785 columns</p>\n",
       "</div>"
      ],
      "text/plain": [
       "   0    1    2    3    4    5    6    7    8    9    ...  775  776  777  778  \\\n",
       "0   23    0    0    0    0    0    0    0    0    0  ...    0    0    0    0   \n",
       "1    7    0    0    0    0    0    0    0    0    0  ...    0    0    0    0   \n",
       "2   16    0    0    0    0    0    0    0    0    0  ...    0    0    0    0   \n",
       "3   15    0    0    0    0    0    0    0    0    0  ...    0    0    0    0   \n",
       "4   23    0    0    0    0    0    0    0    0    0  ...    0    0    0    0   \n",
       "\n",
       "   779  780  781  782  783  784  \n",
       "0    0    0    0    0    0    0  \n",
       "1    0    0    0    0    0    0  \n",
       "2    0    0    0    0    0    0  \n",
       "3    0    0    0    0    0    0  \n",
       "4    0    0    0    0    0    0  \n",
       "\n",
       "[5 rows x 785 columns]"
      ]
     },
     "execution_count": 11,
     "metadata": {},
     "output_type": "execute_result"
    }
   ],
   "source": [
    "letters_train.head()"
   ]
  },
  {
   "cell_type": "code",
   "execution_count": null,
   "metadata": {},
   "outputs": [
    {
     "data": {
      "text/html": [
       "<div>\n",
       "<style scoped>\n",
       "    .dataframe tbody tr th:only-of-type {\n",
       "        vertical-align: middle;\n",
       "    }\n",
       "\n",
       "    .dataframe tbody tr th {\n",
       "        vertical-align: top;\n",
       "    }\n",
       "\n",
       "    .dataframe thead th {\n",
       "        text-align: right;\n",
       "    }\n",
       "</style>\n",
       "<table border=\"1\" class=\"dataframe\">\n",
       "  <thead>\n",
       "    <tr style=\"text-align: right;\">\n",
       "      <th></th>\n",
       "      <th>0</th>\n",
       "      <th>1</th>\n",
       "      <th>2</th>\n",
       "      <th>3</th>\n",
       "      <th>4</th>\n",
       "      <th>5</th>\n",
       "      <th>6</th>\n",
       "      <th>7</th>\n",
       "      <th>8</th>\n",
       "      <th>9</th>\n",
       "      <th>...</th>\n",
       "      <th>775</th>\n",
       "      <th>776</th>\n",
       "      <th>777</th>\n",
       "      <th>778</th>\n",
       "      <th>779</th>\n",
       "      <th>780</th>\n",
       "      <th>781</th>\n",
       "      <th>782</th>\n",
       "      <th>783</th>\n",
       "      <th>784</th>\n",
       "    </tr>\n",
       "  </thead>\n",
       "  <tbody>\n",
       "    <tr>\n",
       "      <th>0</th>\n",
       "      <td>1</td>\n",
       "      <td>0</td>\n",
       "      <td>0</td>\n",
       "      <td>0</td>\n",
       "      <td>0</td>\n",
       "      <td>0</td>\n",
       "      <td>0</td>\n",
       "      <td>0</td>\n",
       "      <td>0</td>\n",
       "      <td>0</td>\n",
       "      <td>...</td>\n",
       "      <td>0</td>\n",
       "      <td>0</td>\n",
       "      <td>0</td>\n",
       "      <td>0</td>\n",
       "      <td>0</td>\n",
       "      <td>0</td>\n",
       "      <td>0</td>\n",
       "      <td>0</td>\n",
       "      <td>0</td>\n",
       "      <td>0</td>\n",
       "    </tr>\n",
       "    <tr>\n",
       "      <th>1</th>\n",
       "      <td>1</td>\n",
       "      <td>0</td>\n",
       "      <td>0</td>\n",
       "      <td>0</td>\n",
       "      <td>0</td>\n",
       "      <td>0</td>\n",
       "      <td>0</td>\n",
       "      <td>0</td>\n",
       "      <td>0</td>\n",
       "      <td>0</td>\n",
       "      <td>...</td>\n",
       "      <td>0</td>\n",
       "      <td>0</td>\n",
       "      <td>0</td>\n",
       "      <td>0</td>\n",
       "      <td>0</td>\n",
       "      <td>0</td>\n",
       "      <td>0</td>\n",
       "      <td>0</td>\n",
       "      <td>0</td>\n",
       "      <td>0</td>\n",
       "    </tr>\n",
       "    <tr>\n",
       "      <th>2</th>\n",
       "      <td>1</td>\n",
       "      <td>0</td>\n",
       "      <td>0</td>\n",
       "      <td>0</td>\n",
       "      <td>0</td>\n",
       "      <td>0</td>\n",
       "      <td>0</td>\n",
       "      <td>0</td>\n",
       "      <td>0</td>\n",
       "      <td>0</td>\n",
       "      <td>...</td>\n",
       "      <td>0</td>\n",
       "      <td>0</td>\n",
       "      <td>0</td>\n",
       "      <td>0</td>\n",
       "      <td>0</td>\n",
       "      <td>0</td>\n",
       "      <td>0</td>\n",
       "      <td>0</td>\n",
       "      <td>0</td>\n",
       "      <td>0</td>\n",
       "    </tr>\n",
       "    <tr>\n",
       "      <th>3</th>\n",
       "      <td>1</td>\n",
       "      <td>0</td>\n",
       "      <td>0</td>\n",
       "      <td>0</td>\n",
       "      <td>0</td>\n",
       "      <td>0</td>\n",
       "      <td>0</td>\n",
       "      <td>0</td>\n",
       "      <td>0</td>\n",
       "      <td>0</td>\n",
       "      <td>...</td>\n",
       "      <td>0</td>\n",
       "      <td>0</td>\n",
       "      <td>0</td>\n",
       "      <td>0</td>\n",
       "      <td>0</td>\n",
       "      <td>0</td>\n",
       "      <td>0</td>\n",
       "      <td>0</td>\n",
       "      <td>0</td>\n",
       "      <td>0</td>\n",
       "    </tr>\n",
       "    <tr>\n",
       "      <th>4</th>\n",
       "      <td>1</td>\n",
       "      <td>0</td>\n",
       "      <td>0</td>\n",
       "      <td>0</td>\n",
       "      <td>0</td>\n",
       "      <td>0</td>\n",
       "      <td>0</td>\n",
       "      <td>0</td>\n",
       "      <td>0</td>\n",
       "      <td>0</td>\n",
       "      <td>...</td>\n",
       "      <td>0</td>\n",
       "      <td>0</td>\n",
       "      <td>0</td>\n",
       "      <td>0</td>\n",
       "      <td>0</td>\n",
       "      <td>0</td>\n",
       "      <td>0</td>\n",
       "      <td>0</td>\n",
       "      <td>0</td>\n",
       "      <td>0</td>\n",
       "    </tr>\n",
       "  </tbody>\n",
       "</table>\n",
       "<p>5 rows × 785 columns</p>\n",
       "</div>"
      ],
      "text/plain": [
       "   0    1    2    3    4    5    6    7    8    9    ...  775  776  777  778  \\\n",
       "0    1    0    0    0    0    0    0    0    0    0  ...    0    0    0    0   \n",
       "1    1    0    0    0    0    0    0    0    0    0  ...    0    0    0    0   \n",
       "2    1    0    0    0    0    0    0    0    0    0  ...    0    0    0    0   \n",
       "3    1    0    0    0    0    0    0    0    0    0  ...    0    0    0    0   \n",
       "4    1    0    0    0    0    0    0    0    0    0  ...    0    0    0    0   \n",
       "\n",
       "   779  780  781  782  783  784  \n",
       "0    0    0    0    0    0    0  \n",
       "1    0    0    0    0    0    0  \n",
       "2    0    0    0    0    0    0  \n",
       "3    0    0    0    0    0    0  \n",
       "4    0    0    0    0    0    0  \n",
       "\n",
       "[5 rows x 785 columns]"
      ]
     },
     "execution_count": 12,
     "metadata": {},
     "output_type": "execute_result"
    }
   ],
   "source": [
    "letters_test.head()"
   ]
  },
  {
   "cell_type": "markdown",
   "metadata": {},
   "source": [
    "## Preprocess des données 🧮"
   ]
  },
  {
   "cell_type": "code",
   "execution_count": null,
   "metadata": {},
   "outputs": [],
   "source": [
    "def shape_data(x):\n",
    "    x = np.reshape(x, (x.shape[0], 28, 28))\n",
    "    \n",
    "    x = x.astype('float32')\n",
    "    x  = x / 255\n",
    "    return x\n",
    "\n",
    "def categorize_data(y, categorical_count):\n",
    "    return keras.utils.to_categorical(y, categorical_count)\n",
    "\n",
    "def preprocess_data(x, y, categorical_count=26):    \n",
    "    x = shape_data(x)\n",
    "    y = categorize_data(y, categorical_count)\n",
    "    return x, y\n",
    "\n",
    "def preprocess_data_instruction(letters, categorical_count=26):\n",
    "    \"\"\"\n",
    "    It takes the dataframe of letters and returns the x and y data in the format that we need for our\n",
    "    neural network\n",
    "    \n",
    "    :param letters: the dataframe containing the data\n",
    "    :return: x is the array of images and y is the array of labels\n",
    "    \"\"\"\n",
    "\n",
    "    x = np.array(letters.iloc[:, 1:785])\n",
    "    y = np.array(letters.iloc[:, 0])\n",
    "    y = y - 1\n",
    "    return x, y"
   ]
  },
  {
   "cell_type": "code",
   "execution_count": null,
   "metadata": {},
   "outputs": [],
   "source": [
    "(x_train_unprocessed, y_train_unprocessed) = preprocess_data_instruction(letters_train)\n",
    "(x_test_unprocessed, y_test_unprocessed) = preprocess_data_instruction(letters_test)\n",
    "(x_train, y_train) = preprocess_data(x_train_unprocessed, y_train_unprocessed)\n",
    "(x_test, y_test) = preprocess_data(x_test_unprocessed, y_test_unprocessed)"
   ]
  },
  {
   "cell_type": "code",
   "execution_count": null,
   "metadata": {},
   "outputs": [],
   "source": [
    "def print_shape(x_train, y_train, x_test, y_test):\n",
    "    print('Train: x=%s, y=%s' % (x_train.shape, y_train.shape))\n",
    "    print('Test: x=%s, y=%s' % (x_test.shape, y_test.shape))"
   ]
  },
  {
   "cell_type": "code",
   "execution_count": null,
   "metadata": {},
   "outputs": [
    {
     "name": "stdout",
     "output_type": "stream",
     "text": [
      "Train: x=(88800, 28, 28), y=(88800, 26)\n",
      "Test: x=(14800, 28, 28), y=(14800, 26)\n"
     ]
    }
   ],
   "source": [
    "print_shape(x_train, y_train, x_test, y_test)"
   ]
  },
  {
   "cell_type": "markdown",
   "metadata": {},
   "source": [
    "## Exploration 🧭"
   ]
  },
  {
   "cell_type": "code",
   "execution_count": null,
   "metadata": {},
   "outputs": [],
   "source": [
    "def plot_9_random_images(x, y, references=alphabet):\n",
    "    \"\"\"\n",
    "    It plots 9 random images from the dataset\n",
    "    \n",
    "    :param x: the images\n",
    "    :param y: the labels for the images\n",
    "    \"\"\"\n",
    "    \n",
    "    _, axes = plt.subplots(3, 3, figsize=(7, 7))\n",
    "\n",
    "    for i in range(9):\n",
    "        ax = axes[i // 3][i%3]\n",
    "        idx = np.random.randint(0, len(x))\n",
    "        ax.imshow(x[idx])\n",
    "        ax.set_title(references[np.argmax(y[idx])])\n",
    "\n",
    "    plt.show()"
   ]
  },
  {
   "cell_type": "code",
   "execution_count": null,
   "metadata": {},
   "outputs": [
    {
     "data": {
      "image/png": "[encoded data removed]",
      "text/plain": [
       "<Figure size 700x700 with 9 Axes>"
      ]
     },
     "metadata": {},
     "output_type": "display_data"
    }
   ],
   "source": [
    "plot_9_random_images(x_train, y_train)"
   ]
  },
  {
   "cell_type": "markdown",
   "metadata": {},
   "source": [
    "Nous allons afficher et comparer nos données de test et nos données d'entrainement:"
   ]
  },
  {
   "cell_type": "code",
   "execution_count": null,
   "metadata": {},
   "outputs": [],
   "source": [
    "def plot_train_vs_test(y_train, y_test, labels=alphabet):\n",
    "    _, ax = plt.subplots(figsize=(9, 5))\n",
    "    shape_len = len(labels)\n",
    "    ax.bar(range(shape_len), y_train.sum(axis=0), label=\"train\")\n",
    "    ax.bar(range(shape_len), y_test.sum(axis=0), label=\"test\")\n",
    "    ax.legend()\n",
    "    ax.set_xticks(range(shape_len))\n",
    "    ax.set_xticklabels(labels)\n",
    "    ax.set_title(\"Nombre de données y par lettres\")\n",
    "\n",
    "    ax.legend()\n",
    "    plt.show()"
   ]
  },
  {
   "cell_type": "code",
   "execution_count": null,
   "metadata": {},
   "outputs": [
    {
     "data": {
      "image/png": "[encoded data removed]",
      "text/plain": [
       "<Figure size 900x500 with 1 Axes>"
      ]
     },
     "metadata": {},
     "output_type": "display_data"
    }
   ],
   "source": [
    "plot_train_vs_test(y_train, y_test)"
   ]
  },
  {
   "cell_type": "markdown",
   "metadata": {},
   "source": [
    "Nous allons donc faire un fix en entraînant jusqu'au `s`\n",
    "Nous ne serons pas capable de reconnaitre les lettres allant de `s` à `z`.\n",
    " \n",
    "Cependant le jeu de test et d'entrainement étant fourni dans le sujet, nous choisissons de les garder indépendantes.\n",
    "On retire donc les données non annotées.\n",
    " \n",
    "On peut également noter un manque de données de tests pour le `s`. Notre modèle reconnaitra donc moins bien les `s` des autres lettres.\n",
    "\n",
    "Il aurait également été possible d'alimenter notre jeu de test avec des données du jeux d'entrainement. Cela aurait été au risque de biaiser notre jeu d'entrainement ou de sortir de la consigne du sujet."
   ]
  },
  {
   "cell_type": "code",
   "execution_count": null,
   "metadata": {},
   "outputs": [],
   "source": [
    "def fixed_data(\n",
    "    x_train=x_train,\n",
    "    y_train=y_train,\n",
    "    x_test=x_test,\n",
    "    y_tests=y_test,\n",
    "    alphabet=alphabet\n",
    "):\n",
    "    letter_s_index = 18\n",
    "    alphabet_fixed = alphabet[0:letter_s_index+1]\n",
    "    y_test_fixed = y_test[:, 0:letter_s_index+1]\n",
    "    y_train_fixed = y_train[:, 0:letter_s_index+1]\n",
    "    return x_train, y_train_fixed, x_test, y_test_fixed, alphabet_fixed"
   ]
  },
  {
   "cell_type": "code",
   "execution_count": null,
   "metadata": {},
   "outputs": [],
   "source": [
    "x_train_fixed, y_train_fixed, x_test_fixed, y_test_fixed, alphabet_fixed = fixed_data()"
   ]
  },
  {
   "cell_type": "code",
   "execution_count": null,
   "metadata": {
    "tags": []
   },
   "outputs": [],
   "source": [
    "def print_train_shape(x_train, y_train):\n",
    "    if x_train.shape[0] == y_train.shape[0]:\n",
    "        print(\"x_train \" + str(x_train.shape[0]) + \" == y_train \" + str(y_train.shape[0]))\n",
    "    elif x_train.shape[0] < y_train.shape[0]:\n",
    "        print(\"x_train \" + str(x_train.shape[0]) + \" < y_train \" + str(y_train.shape[0]))\n",
    "    else:\n",
    "        print(\"x_train \" + str(x_train.shape[0]) + \" > y_train \" + str(y_train.shape[0]))"
   ]
  },
  {
   "cell_type": "markdown",
   "metadata": {},
   "source": [
    "nos données d'entrainement doivent avoir la même quantitée de données."
   ]
  },
  {
   "cell_type": "code",
   "execution_count": null,
   "metadata": {},
   "outputs": [
    {
     "name": "stdout",
     "output_type": "stream",
     "text": [
      "x_train 88800 == y_train 88800\n"
     ]
    }
   ],
   "source": [
    "print_train_shape(x_train_fixed, y_train_fixed)"
   ]
  },
  {
   "cell_type": "code",
   "execution_count": null,
   "metadata": {},
   "outputs": [
    {
     "data": {
      "image/png": "[encoded data removed]",
      "text/plain": [
       "<Figure size 900x500 with 1 Axes>"
      ]
     },
     "metadata": {},
     "output_type": "display_data"
    }
   ],
   "source": [
    "plot_train_vs_test(y_train_fixed, y_test_fixed, alphabet_fixed)"
   ]
  },
  {
   "cell_type": "code",
   "execution_count": null,
   "metadata": {},
   "outputs": [
    {
     "name": "stdout",
     "output_type": "stream",
     "text": [
      "x_train 88800 == y_train 88800\n"
     ]
    }
   ],
   "source": [
    "print_train_shape(x_train, y_train)"
   ]
  },
  {
   "cell_type": "markdown",
   "metadata": {},
   "source": [
    "On peut voir que nos jeux de test et d'entrainement sont désormais proportionnés 🎊."
   ]
  },
  {
   "cell_type": "markdown",
   "metadata": {},
   "source": [
    "## Fit un modèle simple 🚀"
   ]
  },
  {
   "cell_type": "code",
   "execution_count": null,
   "metadata": {},
   "outputs": [],
   "source": [
    "from keras.models import Sequential\n",
    "from keras.layers import Conv2D, MaxPooling2D, Flatten, Dense, Dropout\n",
    "\n",
    "simple_model_section_label = \"fit-simple-model\"\n",
    "simple_model_log_dir = get_log_directory(simple_model_section_label)"
   ]
  },
  {
   "cell_type": "code",
   "execution_count": null,
   "metadata": {},
   "outputs": [],
   "source": [
    "num_pixels = x_train_fixed.shape[1] * x_train_fixed.shape[2]\n",
    "num_letters = y_train_fixed.shape[1]"
   ]
  },
  {
   "cell_type": "code",
   "execution_count": null,
   "metadata": {},
   "outputs": [
    {
     "data": {
      "text/plain": [
       "(19, 784)"
      ]
     },
     "execution_count": 29,
     "metadata": {},
     "output_type": "execute_result"
    }
   ],
   "source": [
    "num_letters, num_pixels"
   ]
  },
  {
   "cell_type": "code",
   "execution_count": null,
   "metadata": {},
   "outputs": [],
   "source": [
    "def get_simple_model(num_pixels, num_letters):\n",
    "    model = Sequential()\n",
    "    \n",
    "    model.add(Conv2D(32, kernel_size=(3, 3), activation='relu', input_shape=(28,28,1)))\n",
    "    model.add(MaxPooling2D(pool_size=(3, 3)))\n",
    "        \n",
    "    model.add(Flatten())\n",
    "    \n",
    "    model.add(Dropout(0.25))\n",
    "    model.add(Dense(num_pixels, input_dim=num_pixels, activation='sigmoid'))\n",
    "\n",
    "    model.add(Dropout(0.25))\n",
    "\n",
    "    # # Ajout d'une couche de classification en sortie avec 26 neurones (une pour chaque lettre de l'alphabet)\n",
    "    model.add(Dense(num_letters, activation='softmax'))\n",
    "\n",
    "    return model"
   ]
  },
  {
   "cell_type": "code",
   "execution_count": null,
   "metadata": {},
   "outputs": [
    {
     "name": "stdout",
     "output_type": "stream",
     "text": [
      "Model: \"sequential\"\n",
      "_________________________________________________________________\n",
      " Layer (type)                Output Shape              Param #   \n",
      "=================================================================\n",
      " conv2d (Conv2D)             (None, 26, 26, 32)        320       \n",
      "                                                                 \n",
      " max_pooling2d (MaxPooling2D  (None, 8, 8, 32)         0         \n",
      " )                                                               \n",
      "                                                                 \n",
      " flatten (Flatten)           (None, 2048)              0         \n",
      "                                                                 \n",
      " dropout (Dropout)           (None, 2048)              0         \n",
      "                                                                 \n",
      " dense (Dense)               (None, 784)               1606416   \n",
      "                                                                 \n",
      " dropout_1 (Dropout)         (None, 784)               0         \n",
      "                                                                 \n",
      " dense_1 (Dense)             (None, 19)                14915     \n",
      "                                                                 \n",
      "=================================================================\n",
      "Total params: 1,621,651\n",
      "Trainable params: 1,621,651\n",
      "Non-trainable params: 0\n",
      "_________________________________________________________________\n"
     ]
    },
    {
     "name": "stderr",
     "output_type": "stream",
     "text": [
      "2022-12-29 12:43:15.094105: W tensorflow/compiler/xla/stream_executor/platform/default/dso_loader.cc:64] Could not load dynamic library 'libcuda.so.1'; dlerror: libcuda.so.1: cannot open shared object file: No such file or directory\n",
      "2022-12-29 12:43:15.094331: W tensorflow/compiler/xla/stream_executor/cuda/cuda_driver.cc:265] failed call to cuInit: UNKNOWN ERROR (303)\n",
      "2022-12-29 12:43:15.094345: I tensorflow/compiler/xla/stream_executor/cuda/cuda_diagnostics.cc:156] kernel driver does not appear to be running on this host (pop-os): /proc/driver/nvidia/version does not exist\n",
      "2022-12-29 12:43:15.095083: I tensorflow/core/platform/cpu_feature_guard.cc:193] This TensorFlow binary is optimized with oneAPI Deep Neural Network Library (oneDNN) to use the following CPU instructions in performance-critical operations:  AVX2 AVX512F AVX512_VNNI FMA\n",
      "To enable them in other operations, rebuild TensorFlow with the appropriate compiler flags.\n"
     ]
    }
   ],
   "source": [
    "simple_model = get_simple_model(num_pixels, num_letters)\n",
    "simple_model.summary()"
   ]
  },
  {
   "cell_type": "code",
   "execution_count": null,
   "metadata": {},
   "outputs": [],
   "source": [
    "simple_model.compile(\n",
    "    loss='categorical_crossentropy',\n",
    "    optimizer='adam',\n",
    "    metrics=['accuracy']\n",
    ")"
   ]
  },
  {
   "cell_type": "code",
   "execution_count": null,
   "metadata": {},
   "outputs": [
    {
     "name": "stdout",
     "output_type": "stream",
     "text": [
      "Epoch 1/15\n",
      "278/278 [==============================] - 12s 40ms/step - loss: 1.3639 - accuracy: 0.3253 - val_loss: 1.0347 - val_accuracy: 0.4908\n",
      "Epoch 2/15\n",
      "278/278 [==============================] - 11s 40ms/step - loss: 1.1008 - accuracy: 0.4170 - val_loss: 0.8897 - val_accuracy: 0.4960\n",
      "Epoch 3/15\n",
      "278/278 [==============================] - 12s 43ms/step - loss: 1.0328 - accuracy: 0.4409 - val_loss: 0.8123 - val_accuracy: 0.7582\n",
      "Epoch 4/15\n",
      "278/278 [==============================] - 12s 43ms/step - loss: 0.9789 - accuracy: 0.4625 - val_loss: 0.7973 - val_accuracy: 0.5268\n",
      "Epoch 5/15\n",
      "278/278 [==============================] - 11s 41ms/step - loss: 0.9287 - accuracy: 0.4755 - val_loss: 0.7510 - val_accuracy: 0.5546\n",
      "Epoch 6/15\n",
      "278/278 [==============================] - 12s 43ms/step - loss: 0.8880 - accuracy: 0.4888 - val_loss: 0.7324 - val_accuracy: 0.8095\n",
      "Epoch 7/15\n",
      "278/278 [==============================] - 11s 41ms/step - loss: 0.8488 - accuracy: 0.5010 - val_loss: 0.6644 - val_accuracy: 0.5641\n",
      "Epoch 8/15\n",
      "278/278 [==============================] - 12s 42ms/step - loss: 0.8075 - accuracy: 0.5149 - val_loss: 0.6308 - val_accuracy: 0.8295\n",
      "Epoch 9/15\n",
      "278/278 [==============================] - 12s 44ms/step - loss: 0.7779 - accuracy: 0.5230 - val_loss: 0.6222 - val_accuracy: 0.5736\n",
      "Epoch 10/15\n",
      "278/278 [==============================] - 12s 42ms/step - loss: 0.7533 - accuracy: 0.5318 - val_loss: 0.5865 - val_accuracy: 0.8416\n",
      "Epoch 11/15\n",
      "278/278 [==============================] - 12s 44ms/step - loss: 0.7310 - accuracy: 0.5374 - val_loss: 0.5605 - val_accuracy: 0.5889\n",
      "Epoch 12/15\n",
      "278/278 [==============================] - 11s 41ms/step - loss: 0.7114 - accuracy: 0.5440 - val_loss: 0.5568 - val_accuracy: 0.5891\n",
      "Epoch 13/15\n",
      "278/278 [==============================] - 12s 43ms/step - loss: 0.6977 - accuracy: 0.5465 - val_loss: 0.5293 - val_accuracy: 0.5939\n",
      "Epoch 14/15\n",
      "278/278 [==============================] - 12s 44ms/step - loss: 0.6792 - accuracy: 0.5506 - val_loss: 0.5443 - val_accuracy: 0.5883\n",
      "Epoch 15/15\n",
      "278/278 [==============================] - 11s 41ms/step - loss: 0.6711 - accuracy: 0.5555 - val_loss: 0.5122 - val_accuracy: 0.5995\n",
      "CPU times: user 13min 15s, sys: 11.1 s, total: 13min 26s\n",
      "Wall time: 2min 56s\n"
     ]
    },
    {
     "data": {
      "text/plain": [
       "<keras.callbacks.History at 0x7f344ad77910>"
      ]
     },
     "execution_count": 38,
     "metadata": {},
     "output_type": "execute_result"
    }
   ],
   "source": [
    "%%time\n",
    "\n",
    "import tensorflow as tf\n",
    "validation_split=0.2\n",
    "\n",
    "simple_model_tensorboard_callback = tf.keras.callbacks.TensorBoard(\n",
    "    log_dir=simple_model_log_dir,\n",
    "    histogram_freq=1)\n",
    "\n",
    "simple_model.fit(\n",
    "    x_train_fixed,\n",
    "    y_train_fixed,\n",
    "    epochs=15,\n",
    "    batch_size=256,\n",
    "    validation_split=validation_split,\n",
    "    callbacks=[simple_model_tensorboard_callback])"
   ]
  },
  {
   "cell_type": "code",
   "execution_count": null,
   "metadata": {},
   "outputs": [],
   "source": [
    "def evaluate(model, x, y):\n",
    "    score = model.evaluate(\n",
    "        x_test_fixed,\n",
    "        y_test_fixed,\n",
    "        batch_size=128\n",
    "    )\n",
    "\n",
    "    print(\"Test loss:\", score[0])\n",
    "    print(\"Test accuracy:\", score[1])"
   ]
  },
  {
   "cell_type": "code",
   "execution_count": null,
   "metadata": {},
   "outputs": [
    {
     "name": "stdout",
     "output_type": "stream",
     "text": [
      "116/116 [==============================] - 1s 4ms/step - loss: 0.7115 - accuracy: 0.8167\n",
      "Test loss: 0.7115131616592407\n",
      "Test accuracy: 0.8166891932487488\n"
     ]
    }
   ],
   "source": [
    "evaluate(simple_model, x_test_fixed, y_test_fixed)"
   ]
  },
  {
   "cell_type": "code",
   "execution_count": null,
   "metadata": {},
   "outputs": [
    {
     "name": "stdout",
     "output_type": "stream",
     "text": [
      "The tensorboard extension is already loaded. To reload it, use:\n",
      "  %reload_ext tensorboard\n"
     ]
    },
    {
     "data": {
      "text/plain": [
       "Reusing TensorBoard on port 6006 (pid 14490), started 0:05:31 ago. (Use '!kill 14490' to kill it.)"
      ]
     },
     "metadata": {},
     "output_type": "display_data"
    },
    {
     "data": {
      "text/html": [
       "\n",
       "      <iframe id=\"tensorboard-frame-b6601c7388167631\" width=\"100%\" height=\"800\" frameborder=\"0\">\n",
       "      </iframe>\n",
       "      <script>\n",
       "        (function() {\n",
       "          const frame = document.getElementById(\"tensorboard-frame-b6601c7388167631\");\n",
       "          const url = new URL(\"/\", window.location);\n",
       "          const port = 6006;\n",
       "          if (port) {\n",
       "            url.port = port;\n",
       "          }\n",
       "          frame.src = url;\n",
       "        })();\n",
       "      </script>\n",
       "    "
      ],
      "text/plain": [
       "<IPython.core.display.HTML object>"
      ]
     },
     "metadata": {},
     "output_type": "display_data"
    }
   ],
   "source": [
    "%load_ext tensorboard\n",
    "%tensorboard --logdir {simple_model_log_dir}"
   ]
  },
  {
   "cell_type": "markdown",
   "metadata": {},
   "source": [
    "C'est pas trop mal, mais on peut faire mieux 🔝\n",
    "\n",
    "On peut noter :\n",
    "- la loss descend de manière constante,\n",
    "- l'accuracy de validation augmente et diminue en suivant des cycles. On peut suposer que se limiter à un nombre d'épochs entre 2 et 6 peut être suffisant pour explorer les hyper paramètres dans un premier temps."
   ]
  },
  {
   "cell_type": "markdown",
   "metadata": {},
   "source": [
    "## 3 Benchmarks des hyper paramètres et variation d'architecture 🎛️\n",
    "\n",
    "Nous allons utiliser `keras_tuner` pour tester plusieurs combinaisons d'hyper paramètres et de modèles.\n",
    "\n",
    "Nous explorerons les pistes suivantes:\n",
    "- variation des `kernel_size` des couches de convolution afin de tester différents niveaux de détails\n",
    "- ajout d'une à 3 couche cachées `Dense`\n",
    "- ajout de couches de `Dropout` ou non pour limiter le sur-apprentissage\n",
    "    - variation des valeurs de dropout indépendantes pour chaques couches\n",
    "- changement des fonctions d'activation\n",
    "\n",
    "Edit:\n",
    "- Après plusieurs essaies, nous avons pu constater que l'hyper paramètre `kernel_size` n'avait pas d'impacte positif sur la performance de notre modèle, nous garderons donc la même valeur que dans l'approche simple. Nous retirons l'option du `tunner` afin de limiter le nombre d'hyper paramètres à explorer."
   ]
  },
  {
   "cell_type": "code",
   "execution_count": null,
   "metadata": {},
   "outputs": [],
   "source": [
    "import keras_tuner\n",
    "\n",
    "def build_model(hp, num_pixels=num_pixels, num_classes=num_letters):\n",
    "    model = Sequential()\n",
    "    \n",
    "    model.add(Conv2D(\n",
    "        32,\n",
    "        kernel_size=(3,3), \n",
    "        activation='relu',\n",
    "        input_shape=(28,28,1)\n",
    "    ))\n",
    "    model.add(MaxPooling2D(pool_size=(2, 2)))\n",
    "        \n",
    "    model.add(Flatten())\n",
    "\n",
    "    model.add(Dense(num_pixels, activation='sigmoid'))\n",
    "    if hp.Boolean(\"dropout\"):\n",
    "        dropout = hp.Float(\n",
    "            \"dropout_first\",\n",
    "            min_value=0.1,\n",
    "            max_value=0.9,\n",
    "            sampling=\"log\"\n",
    "        )\n",
    "        model.add(Dropout(dropout))\n",
    "\n",
    "    for i in range(1, hp.Int(\"num_layers\", 2, 4)):\n",
    "        units=hp.Int(\n",
    "            f\"dense_{i}\",\n",
    "            min_value=num_classes,\n",
    "            max_value=num_pixels,\n",
    "            step=2\n",
    "        )\n",
    "        model.add(Dense(units, activation=\"sigmoid\"))\n",
    "        \n",
    "        if hp.Boolean(\"dropout\"):\n",
    "            dropout = hp.Float(\n",
    "                f\"dropout_{i}\",\n",
    "                min_value=0.1,\n",
    "                max_value=0.9,\n",
    "                sampling=\"log\"\n",
    "            )\n",
    "            model.add(Dropout(dropout))\n",
    "    \n",
    "    model.add(Dense(num_classes, activation='softmax'))\n",
    "        \n",
    "    model.compile(\n",
    "        loss='categorical_crossentropy',\n",
    "        optimizer='adam',\n",
    "        metrics=['accuracy']\n",
    "    )\n",
    "    \n",
    "    return model"
   ]
  },
  {
   "cell_type": "code",
   "execution_count": null,
   "metadata": {},
   "outputs": [
    {
     "data": {
      "text/plain": [
       "<keras.engine.sequential.Sequential at 0x7f33f44cd780>"
      ]
     },
     "execution_count": 303,
     "metadata": {},
     "output_type": "execute_result"
    }
   ],
   "source": [
    "build_model(keras_tuner.HyperParameters())"
   ]
  },
  {
   "cell_type": "code",
   "execution_count": null,
   "metadata": {},
   "outputs": [
    {
     "data": {
      "text/plain": [
       "(19, 784)"
      ]
     },
     "execution_count": 304,
     "metadata": {},
     "output_type": "execute_result"
    }
   ],
   "source": [
    "num_letters, num_pixels"
   ]
  },
  {
   "cell_type": "code",
   "execution_count": null,
   "metadata": {},
   "outputs": [],
   "source": [
    "tunner_section_label = \"tunner-letter\"\n",
    "tunner_log_dir = get_log_directory(tunner_section_label)"
   ]
  },
  {
   "cell_type": "code",
   "execution_count": null,
   "metadata": {},
   "outputs": [],
   "source": [
    "def get_tensorboard_callback(log_dir):\n",
    "    return tf.keras.callbacks.TensorBoard(\n",
    "        log_dir=log_dir,\n",
    "        histogram_freq=1)"
   ]
  },
  {
   "cell_type": "markdown",
   "metadata": {
    "tags": []
   },
   "source": [
    "#### Random tunner 🎲"
   ]
  },
  {
   "cell_type": "code",
   "execution_count": null,
   "metadata": {},
   "outputs": [
    {
     "name": "stdout",
     "output_type": "stream",
     "text": [
      "tunner-letter-random .cache/tunner-letter-random/log\n"
     ]
    }
   ],
   "source": [
    "random_tunner_section_label = tunner_section_label + \"-random\"\n",
    "random_tunner_log_dir = get_log_directory(random_tunner_section_label)\n",
    "print(random_tunner_section_label, random_tunner_log_dir)"
   ]
  },
  {
   "cell_type": "code",
   "execution_count": null,
   "metadata": {},
   "outputs": [],
   "source": [
    "def get_random_tunner(section_label, objective=\"val_accuracy\", max_trials=10):\n",
    "    return keras_tuner.RandomSearch(\n",
    "        hypermodel=build_model,\n",
    "        objective=objective,\n",
    "        max_trials=max_trials,\n",
    "        seed=1,\n",
    "        executions_per_trial=1,\n",
    "        overwrite=True,\n",
    "        directory=get_fit_directory(section_label),\n",
    "        project_name=get_project_name(section_label))"
   ]
  },
  {
   "cell_type": "markdown",
   "metadata": {
    "tags": []
   },
   "source": [
    "#### Early stopping 🛑\n",
    "- Nous utiliserons une fonction de callback `EarlyStopping` qui permet d'arrêter l'entrainement de manière précipitée.\n",
    "Cette méthode nous aidera à trouver l'hyper paramètre d'`epochs` adapté à la situation\n",
    "- Comme les cycles d'augmentation et de diminution de la validation se déroulent sur plus ou moins 3 cycles, nous définirons une patience de 4 épochs pour `EarlyStopping`\n",
    "- Après plusieurs essaies, nous avons pu constater que l'`EarlyStopping` arrète toujours l'entrainement et ce dans un temps raisonable: `[5-40]` `epochs`. C'est une méthode efficasse qui nous permet de trouver un nombre d'`epochs` optimisé."
   ]
  },
  {
   "cell_type": "code",
   "execution_count": null,
   "metadata": {},
   "outputs": [],
   "source": [
    "def get_early_stoping():\n",
    "    return keras.callbacks.EarlyStopping(\n",
    "        monitor='val_loss',\n",
    "        patience=4)"
   ]
  },
  {
   "cell_type": "code",
   "execution_count": null,
   "metadata": {},
   "outputs": [],
   "source": [
    "def benchmark(tunner, log_dir, x_train, y_train, epochs=4, early_stoping=True):\n",
    "    early_stoping_callback = get_early_stoping()\n",
    "    tensorboard_callback = get_tensorboard_callback(log_dir)\n",
    "    callbacks = [tensorboard_callback, early_stoping_callback]\n",
    "    tunner.search_space_summary()\n",
    "    tunner.search(\n",
    "        x_train,\n",
    "        y_train,\n",
    "        validation_split=0.2,\n",
    "        epochs=epochs,\n",
    "        callbacks=callbacks,\n",
    "    )\n",
    "    return tunner"
   ]
  },
  {
   "cell_type": "markdown",
   "metadata": {},
   "source": [
    "- Nous utiliserons un faible nombre d'`epochs` (4) afin d'obtenir une idée des parametres a ajuster."
   ]
  },
  {
   "cell_type": "code",
   "execution_count": null,
   "metadata": {},
   "outputs": [],
   "source": [
    "random_tunner = get_random_tunner(random_tunner_section_label, max_trials=1)"
   ]
  },
  {
   "cell_type": "code",
   "execution_count": null,
   "metadata": {},
   "outputs": [
    {
     "name": "stdout",
     "output_type": "stream",
     "text": [
      "Trial 1 Complete [00h 18m 07s]\n",
      "val_accuracy: 0.6011261343955994\n",
      "\n",
      "Best val_accuracy So Far: 0.6011261343955994\n",
      "Total elapsed time: 00h 18m 07s\n",
      "INFO:tensorflow:Oracle triggered exit\n"
     ]
    },
    {
     "data": {
      "text/plain": [
       "<keras_tuner.tuners.randomsearch.RandomSearch at 0x7f340614d360>"
      ]
     },
     "execution_count": 519,
     "metadata": {},
     "output_type": "execute_result"
    }
   ],
   "source": [
    "benchmark(\n",
    "    random_tunner,\n",
    "    random_tunner_log_dir,\n",
    "    x_train_fixed,\n",
    "    y_train_fixed,\n",
    "    epochs=17)"
   ]
  },
  {
   "cell_type": "markdown",
   "metadata": {},
   "source": [
    "Analysons les résultats en utilisant tensorboard:"
   ]
  },
  {
   "cell_type": "code",
   "execution_count": null,
   "metadata": {},
   "outputs": [
    {
     "data": {
      "text/html": [
       "\n",
       "      <iframe id=\"tensorboard-frame-7b41cd2d31bd18e5\" width=\"100%\" height=\"800\" frameborder=\"0\">\n",
       "      </iframe>\n",
       "      <script>\n",
       "        (function() {\n",
       "          const frame = document.getElementById(\"tensorboard-frame-7b41cd2d31bd18e5\");\n",
       "          const url = new URL(\"/\", window.location);\n",
       "          const port = 6007;\n",
       "          if (port) {\n",
       "            url.port = port;\n",
       "          }\n",
       "          frame.src = url;\n",
       "        })();\n",
       "      </script>\n",
       "    "
      ],
      "text/plain": [
       "<IPython.core.display.HTML object>"
      ]
     },
     "metadata": {},
     "output_type": "display_data"
    }
   ],
   "source": [
    "%tensorboard --logdir {random_tunner_log_dir}"
   ]
  },
  {
   "cell_type": "markdown",
   "metadata": {},
   "source": [
    "#### Hyperband tunner 🗺️\n",
    "\n",
    "Cependant une exploration aléatoire des hyper paramètres n'est pas la solution la plus efficace dans notre cas.\n",
    "\n",
    "C'est une solution qui repose sur la chance et utilise une recherche aveugle.\n",
    "\n",
    "Nous allons utiliser un tunner hyperband qui permet d'apprendre des essaies précédents, contrairement à la recherche aléatoire qui est une recherche aveugle.\n",
    "\n",
    "- Il existe également une approche bayesien de recherche des hyper paramètres qui cependant ne marche pas à cause des hyperparamètres de choix ou booleen. Nous exclurons cette possibilité. \n",
    "\n",
    "- Nous augmenterons le nombre d'essais afin d'avoir une plus grande idée des hyper paramètres qui ont un impacte significatif sur notre modèle.\n",
    "- On désactivera par la suite ceux n'ayant pas d'impacte afin d'affiner nos recherches."
   ]
  },
  {
   "cell_type": "code",
   "execution_count": null,
   "metadata": {},
   "outputs": [
    {
     "name": "stdout",
     "output_type": "stream",
     "text": [
      "tunner-letter-hyperband .cache/tunner-letter-hyperband/log\n"
     ]
    }
   ],
   "source": [
    "hyperband_tunner_section_label = tunner_section_label + \"-hyperband\"\n",
    "hyperband_tunner_log_dir = get_log_directory(hyperband_tunner_section_label)\n",
    "print(hyperband_tunner_section_label, hyperband_tunner_log_dir)"
   ]
  },
  {
   "cell_type": "code",
   "execution_count": null,
   "metadata": {},
   "outputs": [],
   "source": [
    "from keras_tuner.tuners import Hyperband\n",
    "\n",
    "def get_hyperband_tunner(section_label, max_epochs=10, factor=3, objective=\"val_accuracy\", hp=keras_tuner.HyperParameters(), build_model=build_model):\n",
    "    hp.Fixed(\"dropout\", value=True)\n",
    "    \n",
    "    return Hyperband(\n",
    "        hypermodel=build_model,\n",
    "        objective=objective,\n",
    "        hyperparameters=hp,\n",
    "        tune_new_entries=True,50 nuances de grey\n",
    "        factor=factor,\n",
    "        max_epochs=max_epochs,\n",
    "        overwrite=True,\n",
    "        seed=1,\n",
    "        directory=get_fit_directory(section_label),\n",
    "        project_name=get_project_name(section_label))"
   ]
  },
  {
   "cell_type": "code",
   "execution_count": null,
   "metadata": {},
   "outputs": [
    {
     "name": "stdout",
     "output_type": "stream",
     "text": [
      "Trial 10 Complete [00h 08m 23s]\n",
      "val_accuracy: 0.8842905163764954\n",
      "\n",
      "Best val_accuracy So Far: 0.8842905163764954\n",
      "Total elapsed time: 00h 53m 59s\n",
      "INFO:tensorflow:Oracle triggered exit\n"
     ]
    },
    {
     "data": {
      "text/plain": [
       "<keras_tuner.tuners.hyperband.Hyperband at 0x7f3405c67e20>"
      ]
     },
     "execution_count": 510,
     "metadata": {},
     "output_type": "execute_result"
    }
   ],
   "source": [
    "hyperband_tunner = get_hyperband_tunner(\n",
    "    hyperband_tunner_section_label,\n",
    "    max_epochs=6)\n",
    "\n",
    "benchmark(\n",
    "    hyperband_tunner,\n",
    "    hyperband_tunner_log_dir,\n",
    "    x_train_fixed,\n",
    "    y_train_fixed)"
   ]
  },
  {
   "cell_type": "code",
   "execution_count": null,
   "metadata": {},
   "outputs": [
    {
     "data": {
      "text/html": [
       "\n",
       "      <iframe id=\"tensorboard-frame-412f9ea7a85dba76\" width=\"100%\" height=\"800\" frameborder=\"0\">\n",
       "      </iframe>\n",
       "      <script>\n",
       "        (function() {\n",
       "          const frame = document.getElementById(\"tensorboard-frame-412f9ea7a85dba76\");\n",
       "          const url = new URL(\"/\", window.location);\n",
       "          const port = 6006;\n",
       "          if (port) {\n",
       "            url.port = port;\n",
       "          }\n",
       "          frame.src = url;\n",
       "        })();\n",
       "      </script>\n",
       "    "
      ],
      "text/plain": [
       "<IPython.core.display.HTML object>"
      ]
     },
     "metadata": {},
     "output_type": "display_data"
    }
   ],
   "source": [
    "%tensorboard --logdir {hyperband_tunner_log_dir}"
   ]
  },
  {
   "cell_type": "markdown",
   "metadata": {},
   "source": [
    "## 4 Meilleur modèle 🥇\n",
    "Nous allons récupérer et analyser le meilleur modèle retourné par le tunner keras.\n",
    "\n",
    "Nous avons essayé plusieurs configurations et ajout de couches:\n",
    "- Avec Couches de convolutions en plus,\n",
    "- sans le dropout,\n",
    "- avec différentes possibilités sur les fonctions d'activation.\n",
    "\n",
    "Cependant la configuration actuelle est celle permettant d'obtenir les meilleurs résultats."
   ]
  },
  {
   "cell_type": "code",
   "execution_count": null,
   "metadata": {},
   "outputs": [
    {
     "name": "stdout",
     "output_type": "stream",
     "text": [
      "tunner-letter-hyperband-best-model .cache/tunner-letter-hyperband-best-model/log\n"
     ]
    }
   ],
   "source": [
    "best_model_section_label = hyperband_tunner_section_label + \"-best-model\"\n",
    "best_model_log_dir = get_log_directory(best_model_section_label)\n",
    "print(best_model_section_label, best_model_log_dir)"
   ]
  },
  {
   "cell_type": "code",
   "execution_count": null,
   "metadata": {},
   "outputs": [],
   "source": [
    "best_model = hyperband_tunner.get_best_models()[0]\n",
    "best_hyperparameters = hyperband_tunner.get_best_hyperparameters()[0]"
   ]
  },
  {
   "cell_type": "code",
   "execution_count": null,
   "metadata": {},
   "outputs": [
    {
     "name": "stdout",
     "output_type": "stream",
     "text": [
      "116/116 [==============================] - 1s 8ms/step - loss: 0.5385 - accuracy: 0.8496\n",
      "Test loss: 0.5385295152664185\n",
      "Test accuracy: 0.8495945930480957\n"
     ]
    }
   ],
   "source": [
    "score = best_model.evaluate(\n",
    "    x_test_fixed,\n",
    "    y_test_fixed,\n",
    "    batch_size=128\n",
    ")\n",
    "\n",
    "print(\"Test loss:\", score[0])\n",
    "print(\"Test accuracy:\", score[1])"
   ]
  },
  {
   "cell_type": "code",
   "execution_count": null,
   "metadata": {},
   "outputs": [
    {
     "name": "stdout",
     "output_type": "stream",
     "text": [
      "WARNING:tensorflow:Detecting that an object or model or tf.train.Checkpoint is being deleted with unrestored values. See the following logs for the specific values in question. To silence these warnings, use `status.expect_partial()`. See https://www.tensorflow.org/api_docs/python/tf/train/Checkpoint#restorefor details about the status object returned by the restore function.\n",
      "WARNING:tensorflow:Value in checkpoint could not be found in the restored object: (root).optimizer._variables.1\n",
      "WARNING:tensorflow:Value in checkpoint could not be found in the restored object: (root).optimizer._variables.2\n",
      "WARNING:tensorflow:Value in checkpoint could not be found in the restored object: (root).optimizer._variables.3\n",
      "WARNING:tensorflow:Value in checkpoint could not be found in the restored object: (root).optimizer._variables.4\n",
      "WARNING:tensorflow:Value in checkpoint could not be found in the restored object: (root).optimizer._variables.5\n",
      "WARNING:tensorflow:Value in checkpoint could not be found in the restored object: (root).optimizer._variables.6\n",
      "WARNING:tensorflow:Value in checkpoint could not be found in the restored object: (root).optimizer._variables.7\n",
      "WARNING:tensorflow:Value in checkpoint could not be found in the restored object: (root).optimizer._variables.8\n",
      "WARNING:tensorflow:Value in checkpoint could not be found in the restored object: (root).optimizer._variables.9\n",
      "WARNING:tensorflow:Value in checkpoint could not be found in the restored object: (root).optimizer._variables.10\n",
      "WARNING:tensorflow:Value in checkpoint could not be found in the restored object: (root).optimizer._variables.11\n",
      "WARNING:tensorflow:Value in checkpoint could not be found in the restored object: (root).optimizer._variables.12\n",
      "WARNING:tensorflow:Value in checkpoint could not be found in the restored object: (root).optimizer._variables.13\n",
      "WARNING:tensorflow:Value in checkpoint could not be found in the restored object: (root).optimizer._variables.14\n",
      "WARNING:tensorflow:Value in checkpoint could not be found in the restored object: (root).optimizer._variables.15\n",
      "WARNING:tensorflow:Value in checkpoint could not be found in the restored object: (root).optimizer._variables.16\n",
      "WARNING:tensorflow:Value in checkpoint could not be found in the restored object: (root).optimizer._variables.17\n",
      "WARNING:tensorflow:Value in checkpoint could not be found in the restored object: (root).optimizer._variables.18\n",
      "WARNING:tensorflow:Value in checkpoint could not be found in the restored object: (root).optimizer._variables.19\n",
      "WARNING:tensorflow:Value in checkpoint could not be found in the restored object: (root).optimizer._variables.20\n",
      "WARNING:tensorflow:Value in checkpoint could not be found in the restored object: (root).optimizer._variables.21\n",
      "WARNING:tensorflow:Value in checkpoint could not be found in the restored object: (root).optimizer._variables.22\n",
      "WARNING:tensorflow:Value in checkpoint could not be found in the restored object: (root).optimizer._variables.23\n",
      "WARNING:tensorflow:Value in checkpoint could not be found in the restored object: (root).optimizer._variables.24\n"
     ]
    },
    {
     "data": {
      "image/png": "[encoded data removed]",
      "text/plain": [
       "<IPython.core.display.Image object>"
      ]
     },
     "execution_count": 439,
     "metadata": {},
     "output_type": "execute_result"
    }
   ],
   "source": [
    "from keras.utils import plot_model\n",
    "from IPython.display import SVG\n",
    "from keras.utils.vis_utils import model_to_dot\n",
    "\n",
    "best_model_plot = hyperband_tunner.get_best_models()[0]\n",
    "plot_model(best_model_plot, to_file=\"model.png\", show_shapes=True, show_layer_names=True)"
   ]
  },
  {
   "cell_type": "markdown",
   "metadata": {},
   "source": [
    "Comme on peut le voir ce sont les modèles qui ont le plus de couches qui sont les plus performants.\n",
    "\n",
    "C'est une heuristique que l'on avait évoqué en cours et il n'y a rien de très étonnant à cela.\n",
    "\n",
    "On remarque l'absence de `dense_3` ce qui signifie que ce n'est pas le nombre maximum de couche qui est le plus optimisé dans notre cas. Cela rentre un peu en contradiction avec ce que nous avions évoqué en cours à que plus on a de couches, plus le modèle est performant.\n",
    "\n",
    "Voici la liste des hyper paramètes donnants les meilleurs résultats."
   ]
  },
  {
   "cell_type": "code",
   "execution_count": null,
   "metadata": {},
   "outputs": [
    {
     "data": {
      "text/html": [
       "<div>\n",
       "<style scoped>\n",
       "    .dataframe tbody tr th:only-of-type {\n",
       "        vertical-align: middle;\n",
       "    }\n",
       "\n",
       "    .dataframe tbody tr th {\n",
       "        vertical-align: top;\n",
       "    }\n",
       "\n",
       "    .dataframe thead th {\n",
       "        text-align: right;\n",
       "    }\n",
       "</style>\n",
       "<table border=\"1\" class=\"dataframe\">\n",
       "  <thead>\n",
       "    <tr style=\"text-align: right;\">\n",
       "      <th></th>\n",
       "      <th>dropout</th>\n",
       "      <th>dropout_first</th>\n",
       "      <th>num_layers</th>\n",
       "      <th>dense_1</th>\n",
       "      <th>dropout_1</th>\n",
       "      <th>dense_2</th>\n",
       "      <th>dropout_2</th>\n",
       "      <th>tuner/epochs</th>\n",
       "      <th>tuner/initial_epoch</th>\n",
       "      <th>tuner/bracket</th>\n",
       "      <th>tuner/round</th>\n",
       "    </tr>\n",
       "  </thead>\n",
       "  <tbody>\n",
       "    <tr>\n",
       "      <th>0</th>\n",
       "      <td>True</td>\n",
       "      <td>0.102735</td>\n",
       "      <td>2</td>\n",
       "      <td>455</td>\n",
       "      <td>0.319693</td>\n",
       "      <td>439</td>\n",
       "      <td>0.205902</td>\n",
       "      <td>4</td>\n",
       "      <td>0</td>\n",
       "      <td>0</td>\n",
       "      <td>0</td>\n",
       "    </tr>\n",
       "  </tbody>\n",
       "</table>\n",
       "</div>"
      ],
      "text/plain": [
       "   dropout  dropout_first  num_layers  dense_1  dropout_1  dense_2  dropout_2  \\\n",
       "0     True       0.102735           2      455   0.319693      439   0.205902   \n",
       "\n",
       "   tuner/epochs  tuner/initial_epoch  tuner/bracket  tuner/round  \n",
       "0             4                    0              0            0  "
      ]
     },
     "execution_count": 502,
     "metadata": {},
     "output_type": "execute_result"
    }
   ],
   "source": [
    "pd.DataFrame(best_hyperparameters.values,index=[0])"
   ]
  },
  {
   "cell_type": "markdown",
   "metadata": {},
   "source": [
    "#### Meilleur nombre d'epochs 📅"
   ]
  },
  {
   "cell_type": "markdown",
   "metadata": {},
   "source": [
    "Cependant le nombre d'épochs étant défini à la main pour pouvoir explorer les hypers paramètres dans un temps raisonable, il est encore possible d'entrainer le modèle.\n",
    "\n",
    "Nous allons donc entrainer notre modèle jusqu'a ce que la fonction d'early stoping s'active :"
   ]
  },
  {
   "cell_type": "code",
   "execution_count": null,
   "metadata": {},
   "outputs": [],
   "source": [
    "best_model_epochs_section_label = best_model_section_label + \"-epochs\""
   ]
  },
  {
   "cell_type": "code",
   "execution_count": null,
   "metadata": {},
   "outputs": [],
   "source": [
    "def fit(model, x, y, epochs, section_label, validation_split=0.2):\n",
    "    log_dir = get_log_directory(section_label)\n",
    "    \n",
    "    early_stoping_callback = get_early_stoping()\n",
    "    tensorboard_callback = get_tensorboard_callback(log_dir)\n",
    "    callbacks = [tensorboard_callback, early_stoping_callback]\n",
    "\n",
    "    model.fit(\n",
    "        x,\n",
    "        y,\n",
    "        epochs=epochs,\n",
    "        batch_size=256,\n",
    "        validation_split=validation_split,\n",
    "        callbacks=callbacks)"
   ]
  },
  {
   "cell_type": "code",
   "execution_count": null,
   "metadata": {},
   "outputs": [
    {
     "name": "stdout",
     "output_type": "stream",
     "text": [
      "Epoch 1/60\n",
      "278/278 [==============================] - 19s 69ms/step - loss: 0.4985 - accuracy: 0.6149 - val_loss: 0.3174 - val_accuracy: 0.9019\n",
      "Epoch 2/60\n",
      "278/278 [==============================] - 23s 81ms/step - loss: 0.4797 - accuracy: 0.6200 - val_loss: 0.3061 - val_accuracy: 0.9057\n",
      "Epoch 3/60\n",
      "278/278 [==============================] - 22s 78ms/step - loss: 0.4583 - accuracy: 0.6272 - val_loss: 0.2948 - val_accuracy: 0.9049\n",
      "Epoch 4/60\n",
      "278/278 [==============================] - 21s 76ms/step - loss: 0.4405 - accuracy: 0.6298 - val_loss: 0.2845 - val_accuracy: 0.9084\n",
      "Epoch 5/60\n",
      "278/278 [==============================] - 21s 75ms/step - loss: 0.4264 - accuracy: 0.6341 - val_loss: 0.2804 - val_accuracy: 0.9105\n",
      "Epoch 6/60\n",
      "278/278 [==============================] - 21s 76ms/step - loss: 0.4056 - accuracy: 0.6392 - val_loss: 0.2716 - val_accuracy: 0.9120\n",
      "Epoch 7/60\n",
      "278/278 [==============================] - 21s 76ms/step - loss: 0.3961 - accuracy: 0.6429 - val_loss: 0.2637 - val_accuracy: 0.9136\n",
      "Epoch 8/60\n",
      "278/278 [==============================] - 21s 76ms/step - loss: 0.3840 - accuracy: 0.6465 - val_loss: 0.2561 - val_accuracy: 0.9068\n",
      "Epoch 9/60\n",
      "278/278 [==============================] - 22s 78ms/step - loss: 0.3722 - accuracy: 0.6491 - val_loss: 0.2528 - val_accuracy: 0.9154\n",
      "Epoch 10/60\n",
      "278/278 [==============================] - 21s 76ms/step - loss: 0.3575 - accuracy: 0.6539 - val_loss: 0.2473 - val_accuracy: 0.9117\n",
      "Epoch 11/60\n",
      "278/278 [==============================] - 21s 77ms/step - loss: 0.3459 - accuracy: 0.6549 - val_loss: 0.2391 - val_accuracy: 0.6602\n",
      "Epoch 12/60\n",
      "278/278 [==============================] - 22s 78ms/step - loss: 0.3378 - accuracy: 0.6580 - val_loss: 0.2390 - val_accuracy: 0.9179\n",
      "Epoch 13/60\n",
      "278/278 [==============================] - 22s 79ms/step - loss: 0.3288 - accuracy: 0.6596 - val_loss: 0.2394 - val_accuracy: 0.6638\n",
      "Epoch 14/60\n",
      "278/278 [==============================] - 20s 72ms/step - loss: 0.3186 - accuracy: 0.6623 - val_loss: 0.2360 - val_accuracy: 0.6630\n",
      "Epoch 15/60\n",
      "278/278 [==============================] - 21s 75ms/step - loss: 0.3098 - accuracy: 0.6662 - val_loss: 0.2246 - val_accuracy: 0.9207\n",
      "Epoch 16/60\n",
      "278/278 [==============================] - 21s 74ms/step - loss: 0.3015 - accuracy: 0.6668 - val_loss: 0.2222 - val_accuracy: 0.6640\n",
      "Epoch 17/60\n",
      "278/278 [==============================] - 21s 74ms/step - loss: 0.2926 - accuracy: 0.6715 - val_loss: 0.2204 - val_accuracy: 0.6642\n",
      "Epoch 18/60\n",
      "278/278 [==============================] - 20s 74ms/step - loss: 0.2832 - accuracy: 0.6707 - val_loss: 0.2219 - val_accuracy: 0.6645\n",
      "Epoch 19/60\n",
      "278/278 [==============================] - 20s 73ms/step - loss: 0.2747 - accuracy: 0.6740 - val_loss: 0.2190 - val_accuracy: 0.6648\n",
      "Epoch 20/60\n",
      "278/278 [==============================] - 21s 74ms/step - loss: 0.2701 - accuracy: 0.6749 - val_loss: 0.2173 - val_accuracy: 0.6644\n",
      "Epoch 21/60\n",
      "278/278 [==============================] - 20s 73ms/step - loss: 0.2637 - accuracy: 0.6772 - val_loss: 0.2104 - val_accuracy: 0.6680\n",
      "Epoch 22/60\n",
      "278/278 [==============================] - 20s 74ms/step - loss: 0.2595 - accuracy: 0.6790 - val_loss: 0.2151 - val_accuracy: 0.6655\n",
      "Epoch 23/60\n",
      "278/278 [==============================] - 21s 74ms/step - loss: 0.2525 - accuracy: 0.6795 - val_loss: 0.2109 - val_accuracy: 0.6670\n",
      "Epoch 24/60\n",
      "278/278 [==============================] - 20s 73ms/step - loss: 0.2443 - accuracy: 0.6826 - val_loss: 0.2077 - val_accuracy: 0.6668\n",
      "Epoch 25/60\n",
      "278/278 [==============================] - 21s 75ms/step - loss: 0.2380 - accuracy: 0.6837 - val_loss: 0.2061 - val_accuracy: 0.6680\n",
      "Epoch 26/60\n",
      "278/278 [==============================] - 21s 75ms/step - loss: 0.2329 - accuracy: 0.6856 - val_loss: 0.2033 - val_accuracy: 0.6673\n",
      "Epoch 27/60\n",
      "278/278 [==============================] - 20s 74ms/step - loss: 0.2288 - accuracy: 0.6860 - val_loss: 0.2050 - val_accuracy: 0.6675\n",
      "Epoch 28/60\n",
      "278/278 [==============================] - 20s 74ms/step - loss: 0.2237 - accuracy: 0.6869 - val_loss: 0.2057 - val_accuracy: 0.6663\n",
      "Epoch 29/60\n",
      "278/278 [==============================] - 21s 75ms/step - loss: 0.2173 - accuracy: 0.6897 - val_loss: 0.2002 - val_accuracy: 0.6699\n",
      "Epoch 30/60\n",
      "278/278 [==============================] - 21s 74ms/step - loss: 0.2221 - accuracy: 0.6869 - val_loss: 0.2089 - val_accuracy: 0.6665\n",
      "Epoch 31/60\n",
      "278/278 [==============================] - 21s 75ms/step - loss: 0.2169 - accuracy: 0.6889 - val_loss: 0.2021 - val_accuracy: 0.6671\n",
      "Epoch 32/60\n",
      "278/278 [==============================] - 22s 78ms/step - loss: 0.2122 - accuracy: 0.6890 - val_loss: 0.2016 - val_accuracy: 0.6677\n",
      "Epoch 33/60\n",
      "278/278 [==============================] - 21s 76ms/step - loss: 0.2099 - accuracy: 0.6902 - val_loss: 0.2034 - val_accuracy: 0.6673\n"
     ]
    }
   ],
   "source": [
    "fit(best_model, x_train_fixed, y_train_fixed, 60, best_model_epochs_section_label)"
   ]
  },
  {
   "cell_type": "code",
   "execution_count": null,
   "metadata": {},
   "outputs": [
    {
     "name": "stdout",
     "output_type": "stream",
     "text": [
      "116/116 [==============================] - 1s 7ms/step - loss: 0.2936 - accuracy: 0.9097\n",
      "Test loss: 0.29361987113952637\n",
      "Test accuracy: 0.9097297191619873\n"
     ]
    }
   ],
   "source": [
    "evaluate(best_model, x_test_fixed, y_test_fixed)"
   ]
  },
  {
   "cell_type": "markdown",
   "metadata": {},
   "source": [
    "On peut voir que d'après la fonction d'`EarlyStopping` le nombre d'`epochs` optimal est `33`.\n",
    "\n",
    "On peut également noter une valeur de `test accuracy` correcte.\n",
    "\n",
    "On peut cependant noter que la meilleure `accuracy` d'évaluation correspond à `9` `epochs`. Il aurait donc fallu entraîner notre modèle sur `9` `epochs` pour obtenir de meilleurs performances."
   ]
  },
  {
   "cell_type": "markdown",
   "metadata": {},
   "source": [
    "# 2 Des chiffres et des lettres"
   ]
  },
  {
   "cell_type": "markdown",
   "metadata": {},
   "source": [
    "### Chargement des données 💾"
   ]
  },
  {
   "cell_type": "code",
   "execution_count": null,
   "metadata": {},
   "outputs": [
    {
     "name": "stdout",
     "output_type": "stream",
     "text": [
      "[0, 1, 2, 3, 4, 5, 6, 7, 8, 9]\n",
      "Downloading data from https://storage.googleapis.com/tensorflow/tf-keras-datasets/mnist.npz\n",
      "11490434/11490434 [==============================] - 2s 0us/step\n"
     ]
    }
   ],
   "source": [
    "from tensorflow.keras.datasets import mnist\n",
    "\n",
    "from matplotlib import pyplot as plt\n",
    "\n",
    "numbers = list(range(0, 10))\n",
    "print(numbers)\n",
    "\n",
    "# load dataset\n",
    "(x_train_number_unprocessed, y_train_number_unprocessed), (x_test_number_unprocessed, y_test_number_unprocessed) = mnist.load_data()"
   ]
  },
  {
   "cell_type": "code",
   "execution_count": null,
   "metadata": {},
   "outputs": [
    {
     "name": "stdout",
     "output_type": "stream",
     "text": [
      "Train: x=(60000, 28, 28), y=(60000, 10)\n",
      "Test: x=(10000, 28, 28), y=(10000, 10)\n"
     ]
    }
   ],
   "source": [
    "(x_train_number, y_train_number) = preprocess_data(x_train_number_unprocessed, y_train_number_unprocessed, 10)\n",
    "(x_test_number, y_test_number) = preprocess_data(x_test_number_unprocessed, y_test_number_unprocessed, 10)\n",
    "\n",
    "print_shape(x_train_number, y_train_number, x_test_number, y_test_number)"
   ]
  },
  {
   "cell_type": "markdown",
   "metadata": {},
   "source": [
    "### Exploration 🧭"
   ]
  },
  {
   "cell_type": "code",
   "execution_count": null,
   "metadata": {},
   "outputs": [
    {
     "data": {
      "image/png": "[encoded data removed]",
      "text/plain": [
       "<Figure size 700x700 with 9 Axes>"
      ]
     },
     "metadata": {},
     "output_type": "display_data"
    }
   ],
   "source": [
    "plot_9_random_images(x_train_number, y_train_number, numbers)"
   ]
  },
  {
   "cell_type": "code",
   "execution_count": null,
   "metadata": {},
   "outputs": [
    {
     "data": {
      "image/png": "[encoded data removed]",
      "text/plain": [
       "<Figure size 900x500 with 1 Axes>"
      ]
     },
     "metadata": {},
     "output_type": "display_data"
    }
   ],
   "source": [
    "plot_train_vs_test(y_train_number, y_test_number, numbers)"
   ]
  },
  {
   "cell_type": "code",
   "execution_count": null,
   "metadata": {},
   "outputs": [
    {
     "name": "stdout",
     "output_type": "stream",
     "text": [
      "Numbers:\n",
      "Train: x=(60000, 28, 28), y=(60000, 10)\n",
      "Test: x=(10000, 28, 28), y=(10000, 10)\n",
      "Letters:\n",
      "Train: x=(88800, 28, 28), y=(88800, 19)\n",
      "Test: x=(14800, 28, 28), y=(14800, 19)\n"
     ]
    }
   ],
   "source": [
    "print(\"Numbers:\")\n",
    "print_shape(x_train_number, y_train_number, x_test_number, y_test_number)\n",
    "print(\"Letters:\")\n",
    "print_shape(x_train_fixed, y_train_fixed, x_test_fixed, y_test_fixed)"
   ]
  },
  {
   "cell_type": "markdown",
   "metadata": {},
   "source": [
    "### Fusion 🔀 et preprocess des données 🧮"
   ]
  },
  {
   "cell_type": "markdown",
   "metadata": {},
   "source": [
    "Vu que l'on ne veut classer que dans 2 catégories, ils nous faut mettre à jour les labels de nos données."
   ]
  },
  {
   "cell_type": "code",
   "execution_count": null,
   "metadata": {},
   "outputs": [],
   "source": [
    "number_or_letter = [\"letters\", \"number\"]\n",
    "\n",
    "def preprocess_data_number_letters(x, y, categorical_count=26):    \n",
    "    x = shape_data(x)\n",
    "    y = categorize_data(y, categorical_count)\n",
    "    return x, y\n",
    "\n",
    "def reclass(y, is_fist_class: bool = True):\n",
    "    if is_fist_class:\n",
    "        return np.zeros(y.shape)\n",
    "    else:10000, 28, 28), y=(10000, 10\n",
    "        return np.ones(y.shape)\n",
    "\n",
    "def merge_letters_and_numbers(letter, number):\n",
    "    return np.concatenate((\n",
    "    letter,\n",
    "    number))\n",
    "\n",
    "def preprocess_letters_and_numbers(\n",
    "    x_letter,\n",
    "    x_number,\n",
    "    y_letter,\n",
    "    y_number,\n",
    "):\n",
    "    # Reclass letters\n",
    "    y_letter_reclassified = reclass(y_letter, True)\n",
    "    # Reclass numbers\n",
    "    y_number_reclassified = reclass(y_number, False)\n",
    "    \n",
    "    x_letter_shaped = shape_data(x_letter)\n",
    "    x_number_shaped = shape_data(x_number)\n",
    "\n",
    "    # Merge numbers and letters\n",
    "    # train\n",
    "    x = merge_letters_and_numbers(\n",
    "        x_letter_shaped,\n",
    "        x_number_shaped)\n",
    "\n",
    "    y_number_letter_uncategorized = merge_letters_and_numbers(\n",
    "        y_letter_reclassified,\n",
    "        y_number_reclassified)\n",
    "\n",
    "    y = categorize_data(y_number_letter_uncategorized, 2)\n",
    "    return x, y"
   ]
  },
  {
   "cell_type": "code",
   "execution_count": null,
   "metadata": {},
   "outputs": [
    {
     "data": {
      "text/plain": [
       "((148800, 2), (74800, 2))"
      ]
     },
     "execution_count": 479,
     "metadata": {},
     "output_type": "execute_result"
    }
   ],
   "source": [
    "y_train_letter_number.shape, y_test_letter_number.shape"
   ]
  },
  {
   "cell_type": "code",
   "execution_count": null,
   "metadata": {},
   "outputs": [],
   "source": [
    "x_train_letter_number, y_train_letter_number = preprocess_letters_and_numbers(\n",
    "    x_train_unprocessed,\n",
    "    x_train_number_unprocessed,\n",
    "    y_train_unprocessed,\n",
    "    y_train_number_unprocessed)\n",
    "x_test_letter_number, y_test_letter_number = preprocess_letters_and_numbers(\n",
    "    x_test_unprocessed,\n",
    "    x_test_number_unprocessed,\n",
    "    y_test_unprocessed,\n",
    "    y_test_number_unprocessed)"
   ]
  },
  {
   "cell_type": "code",
   "execution_count": null,
   "metadata": {},
   "outputs": [
    {
     "data": {
      "image/png": "[encoded data removed]",
      "text/plain": [
       "<Figure size 700x700 with 9 Axes>"
      ]
     },
     "metadata": {},
     "output_type": "display_data"
    }
   ],
   "source": [
    "plot_9_random_images(x_train_letter_number, y_train_letter_number, number_or_letter)"
   ]
  },
  {
   "cell_type": "code",
   "execution_count": null,
   "metadata": {},
   "outputs": [
    {
     "data": {
      "image/png": "[encoded data removed]",
      "text/plain": [
       "<Figure size 900x500 with 1 Axes>"
      ]
     },
     "metadata": {},
     "output_type": "display_data"
    }
   ],
   "source": [
    "plot_train_vs_test(y_train_letter_number, y_test_letter_number, number_or_letter)"
   ]
  },
  {
   "cell_type": "markdown",
   "metadata": {},
   "source": [
    "On remarque une différence entre le nombre de données d'entraînement pour les lettres et pour les chiffres qui déséquilibre un peu le jeu de données. Cela reste cependant cohérent par rapport au nombre de lettre (19) et de chiffres (10) qui constituent notre jeu de données."
   ]
  },
  {
   "cell_type": "markdown",
   "metadata": {},
   "source": [
    "### Modèle 🚀"
   ]
  },
  {
   "cell_type": "markdown",
   "metadata": {},
   "source": [
    "Nous allons utiliser la meme méthode que dans la partie 1.\n"
   ]
  },
  {
   "cell_type": "code",
   "execution_count": null,
   "metadata": {},
   "outputs": [
    {
     "name": "stdout",
     "output_type": "stream",
     "text": [
      "letter-number-tunner .cache/letter-number-tunner/log\n"
     ]
    }
   ],
   "source": [
    "letter_number_section_label = \"letter-number-tunner\"\n",
    "letter_number_log_dir = get_log_directory(letter_number_section_label)\n",
    "print(letter_number_section_label, letter_number_log_dir)"
   ]
  },
  {
   "cell_type": "code",
   "execution_count": null,
   "metadata": {},
   "outputs": [
    {
     "name": "stdout",
     "output_type": "stream",
     "text": [
      "784 2\n"
     ]
    }
   ],
   "source": [
    "num_classes = len(number_or_letter)\n",
    "print(num_pixels, num_classes)"
   ]
  },
  {
   "cell_type": "markdown",
   "metadata": {
    "toc-hr-collapsed": true
   },
   "source": [
    "#### Meilleurs hyperparamètres 🥇"
   ]
  },
  {
   "cell_type": "code",
   "execution_count": null,
   "metadata": {},
   "outputs": [],
   "source": [
    "def build_model_letter_number(hp, num_pixels=num_pixels, num_classes=num_classes):\n",
    "    return build_model(hp, num_pixels, num_classes=num_classes)"
   ]
  },
  {
   "cell_type": "code",
   "execution_count": null,
   "metadata": {},
   "outputs": [
    {
     "name": "stdout",
     "output_type": "stream",
     "text": [
      "Trial 10 Complete [00h 15m 43s]\n",
      "val_accuracy: 0.9999327659606934\n",
      "\n",
      "Best val_accuracy So Far: 1.0\n",
      "Total elapsed time: 01h 32m 35s\n",
      "INFO:tensorflow:Oracle triggered exit\n"
     ]
    },
    {
     "data": {
      "text/plain": [
       "<keras_tuner.tuners.hyperband.Hyperband at 0x7f3405cb63e0>"
      ]
     },
     "execution_count": 494,
     "metadata": {},
     "output_type": "execute_result"
    }
   ],
   "source": [
    "tunner_letter_number = get_hyperband_tunner(\n",
    "    letter_number_section_label,\n",
    "    max_epochs=6,\n",
    "    build_model=build_model_letter_number)\n",
    "\n",
    "benchmark(\n",
    "    tunner_letter_number,\n",
    "    letter_number_log_dir,\n",
    "    x_train_letter_number,\n",
    "    y_train_letter_number)"
   ]
  },
  {
   "cell_type": "code",
   "execution_count": null,
   "metadata": {},
   "outputs": [],
   "source": [
    "best_model_letter_number = tunner_letter_number.get_best_models()[0]\n",
    "best_hyperparameters_letter_number = tunner_letter_number.get_best_hyperparameters()[0]"
   ]
  },
  {
   "cell_type": "code",
   "execution_count": null,
   "metadata": {},
   "outputs": [
    {
     "name": "stdout",
     "output_type": "stream",
     "text": [
      "194/194 [==============================] - 2s 8ms/step - loss: 0.0047 - accuracy: 0.9990\n",
      "Test loss: 0.004693709313869476\n",
      "Test accuracy: 0.9989516139030457\n"
     ]
    }
   ],
   "source": [
    "score = best_model_letter_number.evaluate(\n",
    "    x_test_letter_number,\n",
    "    y_test_letter_number,\n",
    "    batch_size=128\n",
    ")\n",
    "\n",
    "print(\"Test loss:\", score[0])\n",
    "print(\"Test accuracy:\", score[1])"
   ]
  },
  {
   "cell_type": "markdown",
   "metadata": {},
   "source": [
    "On peut voir que l'`accuracy` d'évaluation de notre modèle est excellente.\n",
    "\n",
    "Nous pourrions l'entrainer davantage afin de selectioner le meilleur nombre d'`epochs`, cependant nous n'en navons malheureusement pas eu le temps.\n",
    "\n",
    "Il aurait fallu pour cela laisser la méthode d'`EarlyStopping` arrêter l'entraînement comme fait dans la partie 1."
   ]
  },
  {
   "cell_type": "code",
   "execution_count": null,
   "metadata": {},
   "outputs": [
    {
     "name": "stdout",
     "output_type": "stream",
     "text": [
      "WARNING:tensorflow:Detecting that an object or model or tf.train.Checkpoint is being deleted with unrestored values. See the following logs for the specific values in question. To silence these warnings, use `status.expect_partial()`. See https://www.tensorflow.org/api_docs/python/tf/train/Checkpoint#restorefor details about the status object returned by the restore function.\n",
      "WARNING:tensorflow:Value in checkpoint could not be found in the restored object: (root).optimizer._variables.1\n",
      "WARNING:tensorflow:Value in checkpoint could not be found in the restored object: (root).optimizer._variables.2\n",
      "WARNING:tensorflow:Value in checkpoint could not be found in the restored object: (root).optimizer._variables.3\n",
      "WARNING:tensorflow:Value in checkpoint could not be found in the restored object: (root).optimizer._variables.4\n",
      "WARNING:tensorflow:Value in checkpoint could not be found in the restored object: (root).optimizer._variables.5\n",
      "WARNING:tensorflow:Value in checkpoint could not be found in the restored object: (root).optimizer._variables.6\n",
      "WARNING:tensorflow:Value in checkpoint could not be found in the restored object: (root).optimizer._variables.7\n",
      "WARNING:tensorflow:Value in checkpoint could not be found in the restored object: (root).optimizer._variables.8\n",
      "WARNING:tensorflow:Value in checkpoint could not be found in the restored object: (root).optimizer._variables.9\n",
      "WARNING:tensorflow:Value in checkpoint could not be found in the restored object: (root).optimizer._variables.10\n",
      "WARNING:tensorflow:Value in checkpoint could not be found in the restored object: (root).optimizer._variables.11\n",
      "WARNING:tensorflow:Value in checkpoint could not be found in the restored object: (root).optimizer._variables.12\n",
      "WARNING:tensorflow:Value in checkpoint could not be found in the restored object: (root).optimizer._variables.13\n",
      "WARNING:tensorflow:Value in checkpoint could not be found in the restored object: (root).optimizer._variables.14\n",
      "WARNING:tensorflow:Value in checkpoint could not be found in the restored object: (root).optimizer._variables.15\n",
      "WARNING:tensorflow:Value in checkpoint could not be found in the restored object: (root).optimizer._variables.16\n"
     ]
    },
    {
     "data": {
      "image/png": "[encoded data removed]",
      "text/plain": [
       "<IPython.core.display.Image object>"
      ]
     },
     "execution_count": 503,
     "metadata": {},
     "output_type": "execute_result"
    }
   ],
   "source": [
    "best_model_letter_number_plot = tunner_letter_number.get_best_models()[0]\n",
    "plot_model(best_model_letter_number_plot, to_file=\"letter-number-model.png\", show_shapes=True, show_layer_names=True)"
   ]
  },
  {
   "cell_type": "markdown",
   "metadata": {},
   "source": [
    "On peut noter que le modèle le plus efficace à une architecture similaire à celle de du modèle de classification des lettres."
   ]
  },
  {
   "cell_type": "code",
   "execution_count": null,
   "metadata": {},
   "outputs": [
    {
     "data": {
      "text/html": [
       "<div>\n",
       "<style scoped>\n",
       "    .dataframe tbody tr th:only-of-type {\n",
       "        vertical-align: middle;\n",
       "    }\n",
       "\n",
       "    .dataframe tbody tr th {\n",
       "        vertical-align: top;\n",
       "    }\n",
       "\n",
       "    .dataframe thead th {\n",
       "        text-align: right;\n",
       "    }\n",
       "</style>\n",
       "<table border=\"1\" class=\"dataframe\">\n",
       "  <thead>\n",
       "    <tr style=\"text-align: right;\">\n",
       "      <th></th>\n",
       "      <th>dropout</th>\n",
       "      <th>dropout_first</th>\n",
       "      <th>num_layers</th>\n",
       "      <th>dense_1</th>\n",
       "      <th>dropout_1</th>\n",
       "      <th>dense_2</th>\n",
       "      <th>dropout_2</th>\n",
       "      <th>tuner/epochs</th>\n",
       "      <th>tuner/initial_epoch</th>\n",
       "      <th>tuner/bracket</th>\n",
       "      <th>tuner/round</th>\n",
       "    </tr>\n",
       "  </thead>\n",
       "  <tbody>\n",
       "    <tr>\n",
       "      <th>0</th>\n",
       "      <td>True</td>\n",
       "      <td>0.40758</td>\n",
       "      <td>2</td>\n",
       "      <td>360</td>\n",
       "      <td>0.230986</td>\n",
       "      <td>502</td>\n",
       "      <td>0.10884</td>\n",
       "      <td>6</td>\n",
       "      <td>0</td>\n",
       "      <td>0</td>\n",
       "      <td>0</td>\n",
       "    </tr>\n",
       "  </tbody>\n",
       "</table>\n",
       "</div>"
      ],
      "text/plain": [
       "   dropout  dropout_first  num_layers  dense_1  dropout_1  dense_2  dropout_2  \\\n",
       "0     True        0.40758           2      360   0.230986      502    0.10884   \n",
       "\n",
       "   tuner/epochs  tuner/initial_epoch  tuner/bracket  tuner/round  \n",
       "0             6                    0              0            0  "
      ]
     },
     "execution_count": 504,
     "metadata": {},
     "output_type": "execute_result"
    }
   ],
   "source": [
    "pd.DataFrame(best_hyperparameters_letter_number.values,index=[0])"
   ]
  },
  {
   "cell_type": "markdown",
   "metadata": {},
   "source": [
    "Comparons les hyper paramètres actuels, et ceux du modèle de classification des lettres:"
   ]
  },
  {
   "cell_type": "code",
   "execution_count": null,
   "metadata": {},
   "outputs": [
    {
     "data": {
      "text/html": [
       "<div>\n",
       "<style scoped>\n",
       "    .dataframe tbody tr th:only-of-type {\n",
       "        vertical-align: middle;\n",
       "    }\n",
       "\n",
       "    .dataframe tbody tr th {\n",
       "        vertical-align: top;\n",
       "    }\n",
       "\n",
       "    .dataframe thead th {\n",
       "        text-align: right;\n",
       "    }\n",
       "</style>\n",
       "<table border=\"1\" class=\"dataframe\">\n",
       "  <thead>\n",
       "    <tr style=\"text-align: right;\">\n",
       "      <th></th>\n",
       "      <th>Letters and numbers</th>\n",
       "      <th>Letters</th>\n",
       "    </tr>\n",
       "  </thead>\n",
       "  <tbody>\n",
       "    <tr>\n",
       "      <th>dropout</th>\n",
       "      <td>True</td>\n",
       "      <td>True</td>\n",
       "    </tr>\n",
       "    <tr>\n",
       "      <th>dropout_first</th>\n",
       "      <td>0.40758</td>\n",
       "      <td>0.102735</td>\n",
       "    </tr>\n",
       "    <tr>\n",
       "      <th>num_layers</th>\n",
       "      <td>2</td>\n",
       "      <td>2</td>\n",
       "    </tr>\n",
       "    <tr>\n",
       "      <th>dense_1</th>\n",
       "      <td>360</td>\n",
       "      <td>455</td>\n",
       "    </tr>\n",
       "    <tr>\n",
       "      <th>dropout_1</th>\n",
       "      <td>0.230986</td>\n",
       "      <td>0.319693</td>\n",
       "    </tr>\n",
       "    <tr>\n",
       "      <th>dense_2</th>\n",
       "      <td>502</td>\n",
       "      <td>439</td>\n",
       "    </tr>\n",
       "    <tr>\n",
       "      <th>dropout_2</th>\n",
       "      <td>0.10884</td>\n",
       "      <td>0.205902</td>\n",
       "    </tr>\n",
       "    <tr>\n",
       "      <th>tuner/epochs</th>\n",
       "      <td>6</td>\n",
       "      <td>4</td>\n",
       "    </tr>\n",
       "    <tr>\n",
       "      <th>tuner/initial_epoch</th>\n",
       "      <td>0</td>\n",
       "      <td>0</td>\n",
       "    </tr>\n",
       "    <tr>\n",
       "      <th>tuner/bracket</th>\n",
       "      <td>0</td>\n",
       "      <td>0</td>\n",
       "    </tr>\n",
       "    <tr>\n",
       "      <th>tuner/round</th>\n",
       "      <td>0</td>\n",
       "      <td>0</td>\n",
       "    </tr>\n",
       "  </tbody>\n",
       "</table>\n",
       "</div>"
      ],
      "text/plain": [
       "                    Letters and numbers   Letters\n",
       "dropout                            True      True\n",
       "dropout_first                   0.40758  0.102735\n",
       "num_layers                            2         2\n",
       "dense_1                             360       455\n",
       "dropout_1                      0.230986  0.319693\n",
       "dense_2                             502       439\n",
       "dropout_2                       0.10884  0.205902\n",
       "tuner/epochs                          6         4\n",
       "tuner/initial_epoch                   0         0\n",
       "tuner/bracket                         0         0\n",
       "tuner/round                           0         0"
      ]
     },
     "execution_count": 508,
     "metadata": {},
     "output_type": "execute_result"
    }
   ],
   "source": [
    "pd.DataFrame({ \"Letters and numbers\": best_hyperparameters_letter_number.values, \"Letters\": best_hyperparameters.values})"
   ]
  },
  {
   "cell_type": "markdown",
   "metadata": {},
   "source": [
    "Nous pouvons voir que le nombre de couches dense cachées supplémentaires est égal pour les 2 modèles. Ce qui est une conclusion attendu, les 2 modèles étant similaires, travaillant sur des données de qualités égales et utilisant le même tuner keras avec la même graine d'aléatoire.\n",
    "\n",
    "Nous noterons également que le nombre de neurones dans ces couches cachées se situe dans des ordres de grandeurs similaires, probablement pour les raisons évoquées ci-dessus."
   ]
  },
  {
   "cell_type": "code",
   "execution_count": null,
   "metadata": {},
   "outputs": [],
   "source": []
  }
 ],
 "metadata": {
  "interpreter": {
   "hash": "66991effcee428fe3b7dcd412958344046991aa733ef17c2ba72427440d93ecb"
  },
  "kernelspec": {
   "display_name": "Python 3 (ipykernel)",
   "language": "python",
   "name": "python3"
  },
  "language_info": {
   "codemirror_mode": {
    "name": "ipython",
    "version": 3
   },
   "file_extension": ".py",
   "mimetype": "text/x-python",
   "name": "python",
   "nbconvert_exporter": "python",
   "pygments_lexer": "ipython3",
   "version": "3.10.6"
  }
 },
 "nbformat": 4,
 "nbformat_minor": 4
}
